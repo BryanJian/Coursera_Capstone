{
 "cells": [
  {
   "cell_type": "markdown",
   "id": "3a35c776",
   "metadata": {},
   "source": [
    "# Segmenting and Clustering Neighborhoods in Toronto\n",
    "\n",
    "### Author: Bryan Choi\n",
    "\n",
    "Note: This notebook contains answers for all 3 parts of the assignment.\n",
    "\n",
    "## TOC:\n",
    "* [Part 1](#part-1)\n",
    "* [Part 2](#part-2)\n",
    "* [Part 3](#part-3)"
   ]
  },
  {
   "cell_type": "markdown",
   "id": "b5a2e420",
   "metadata": {},
   "source": [
    "## Initialisation"
   ]
  },
  {
   "cell_type": "code",
   "execution_count": null,
   "id": "f45c667f",
   "metadata": {},
   "outputs": [],
   "source": [
    "import requests\n",
    "import pandas as pd\n",
    "import numpy as np\n"
   ]
  },
  {
   "cell_type": "markdown",
   "id": "4b3e9aad",
   "metadata": {},
   "source": [
    "## Part 1 <a class=\"anchor\" id=\"part-1\"></a>"
   ]
  },
  {
   "cell_type": "code",
   "execution_count": null,
   "id": "19cc4478",
   "metadata": {},
   "outputs": [],
   "source": [
    "wiki_data = requests.\n",
    "soup = "
   ]
  },
  {
   "cell_type": "code",
   "execution_count": null,
   "id": "6471899b",
   "metadata": {},
   "outputs": [],
   "source": [
    "table_contents = []\n",
    "table = soup.find(\"table\")\n",
    "for row in table.findAll(\"td\"):\n",
    "    cell = {}\n",
    "    if row.span.text == \"Not assigned\":\n",
    "        pass\n",
    "    else:\n",
    "        cell[\"PostalCode\"] = row.p.text[:3]\n",
    "        cell[\"Borough\"] = (row.span.text).split(\"(\")[0]\n",
    "        cell[\"Neighborhood\"] = (\n",
    "            ((((row.span.text).split(\"(\")[1]).strip(\")\")).replace(\" /\", \",\")).replace(\n",
    "                \")\", \" \"\n",
    "            )\n",
    "        ).strip(\" \")\n",
    "        table_contents.append(cell)\n",
    "\n",
    "# print(table_contents)\n",
    "df = pd.DataFrame(table_contents)\n",
    "df[\"Borough\"] = df[\"Borough\"].replace(\n",
    "    {\n",
    "        \"Downtown TorontoStn A PO Boxes25 The Esplanade\": \"Downtown Toronto Stn A\",\n",
    "        \"East TorontoBusiness reply mail Processing Centre969 Eastern\": \"East Toronto Business\",\n",
    "        \"EtobicokeNorthwest\": \"Etobicoke Northwest\",\n",
    "        \"East YorkEast Toronto\": \"East York/East Toronto\",\n",
    "        \"MississaugaCanada Post Gateway Processing Centre\": \"Mississauga\",\n",
    "    }\n",
    ")"
   ]
  },
  {
   "cell_type": "markdown",
   "id": "3c605cbc",
   "metadata": {},
   "source": [
    "## Part 2 <a class=\"anchor\" id=\"part-2\"></a>"
   ]
  },
  {
   "cell_type": "code",
   "execution_count": null,
   "id": "09d7765b",
   "metadata": {},
   "outputs": [],
   "source": []
  },
  {
   "cell_type": "markdown",
   "id": "ebc6cdbd",
   "metadata": {},
   "source": [
    "## Part 3 <a class=\"anchor\" id=\"part-3\"></a>"
   ]
  },
  {
   "cell_type": "code",
   "execution_count": null,
   "id": "f5c6618c",
   "metadata": {},
   "outputs": [],
   "source": []
  }
 ],
 "metadata": {
  "kernelspec": {
   "display_name": "Python 3",
   "language": "python",
   "name": "python3"
  },
  "language_info": {
   "codemirror_mode": {
    "name": "ipython",
    "version": 3
   },
   "file_extension": ".py",
   "mimetype": "text/x-python",
   "name": "python",
   "nbconvert_exporter": "python",
   "pygments_lexer": "ipython3",
   "version": "3.8.8"
  },
  "varInspector": {
   "cols": {
    "lenName": 16,
    "lenType": 16,
    "lenVar": 40
   },
   "kernels_config": {
    "python": {
     "delete_cmd_postfix": "",
     "delete_cmd_prefix": "del ",
     "library": "var_list.py",
     "varRefreshCmd": "print(var_dic_list())"
    },
    "r": {
     "delete_cmd_postfix": ") ",
     "delete_cmd_prefix": "rm(",
     "library": "var_list.r",
     "varRefreshCmd": "cat(var_dic_list()) "
    }
   },
   "types_to_exclude": [
    "module",
    "function",
    "builtin_function_or_method",
    "instance",
    "_Feature"
   ],
   "window_display": false
  }
 },
 "nbformat": 4,
 "nbformat_minor": 5
}
