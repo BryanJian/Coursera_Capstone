{
 "cells": [
  {
   "cell_type": "markdown",
   "id": "5f521a3e",
   "metadata": {},
   "source": [
    "# Capstone Project Notebook - Coursera/IBM\n",
    "\n",
    "- Author: Bryan Choi\n",
    "\n",
    "This notebook would be mainly used for the IBM Applied Data Science Capstone project on Coursera."
   ]
  },
  {
   "cell_type": "code",
   "execution_count": 1,
   "id": "3fe03d83",
   "metadata": {
    "ExecuteTime": {
     "end_time": "2021-04-12T08:07:11.049693Z",
     "start_time": "2021-04-12T08:07:10.287868Z"
    }
   },
   "outputs": [],
   "source": [
    "import numpy as np\n",
    "import pandas as pd"
   ]
  },
  {
   "cell_type": "code",
   "execution_count": 2,
   "id": "79870fb3",
   "metadata": {
    "ExecuteTime": {
     "end_time": "2021-04-12T08:08:39.736143Z",
     "start_time": "2021-04-12T08:08:39.704894Z"
    }
   },
   "outputs": [
    {
     "name": "stdout",
     "output_type": "stream",
     "text": [
      "Hello Capstone Project Course!\n"
     ]
    }
   ],
   "source": [
    "print(\"Hello Capstone Project Course!\")"
   ]
  },
  {
   "cell_type": "code",
   "execution_count": null,
   "id": "a39b4da9",
   "metadata": {},
   "outputs": [],
   "source": []
  }
 ],
 "metadata": {
  "kernelspec": {
   "display_name": "Python 3",
   "language": "python",
   "name": "python3"
  },
  "language_info": {
   "codemirror_mode": {
    "name": "ipython",
    "version": 3
   },
   "file_extension": ".py",
   "mimetype": "text/x-python",
   "name": "python",
   "nbconvert_exporter": "python",
   "pygments_lexer": "ipython3",
   "version": "3.8.8"
  },
  "varInspector": {
   "cols": {
    "lenName": 16,
    "lenType": 16,
    "lenVar": 40
   },
   "kernels_config": {
    "python": {
     "delete_cmd_postfix": "",
     "delete_cmd_prefix": "del ",
     "library": "var_list.py",
     "varRefreshCmd": "print(var_dic_list())"
    },
    "r": {
     "delete_cmd_postfix": ") ",
     "delete_cmd_prefix": "rm(",
     "library": "var_list.r",
     "varRefreshCmd": "cat(var_dic_list()) "
    }
   },
   "types_to_exclude": [
    "module",
    "function",
    "builtin_function_or_method",
    "instance",
    "_Feature"
   ],
   "window_display": false
  }
 },
 "nbformat": 4,
 "nbformat_minor": 5
}
